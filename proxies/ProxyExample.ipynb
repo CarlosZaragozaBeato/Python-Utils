{
 "cells": [
  {
   "cell_type": "code",
   "execution_count": 19,
   "metadata": {},
   "outputs": [],
   "source": [
    "import queue\n",
    "import threading\n",
    "\n",
    "import requests"
   ]
  },
  {
   "cell_type": "code",
   "execution_count": 20,
   "metadata": {},
   "outputs": [],
   "source": [
    "q = queue.Queue()\n",
    "valid_proxies = []\n",
    "\n",
    "with open(\"proxies_list.txt\",\"r\") as f:\n",
    "    proxies = f.read().split(\"\\n\")\n",
    "    for p in proxies:\n",
    "        q.put(p)\n",
    "    \n",
    "\n",
    "    \n"
   ]
  },
  {
   "cell_type": "code",
   "execution_count": 21,
   "metadata": {},
   "outputs": [],
   "source": [
    "def check_proxies():\n",
    "    global q \n",
    "    while not q.empty():\n",
    "        proxy = q.get()\n",
    "        \n",
    "        try:\n",
    "            res  = requests.get(\"http://ipinfo.io/json\",\n",
    "                               proxies={\"http\":proxy,\n",
    "                                        \"https\":proxy})\n",
    "        except:\n",
    "            continue\n",
    "        if res.status_code == 200:\n",
    "            print(proxy)\n",
    "            \n",
    "for _ in range(10):\n",
    "    threading.Thread(target=check_proxies).start()"
   ]
  },
  {
   "cell_type": "code",
   "execution_count": 22,
   "metadata": {},
   "outputs": [
    {
     "name": "stdout",
     "output_type": "stream",
     "text": [
      "Using the proxy: 178.33.3.163:8080\n",
      "167.235.231.57:80\n",
      "119.237.37.28:80\n",
      "103.142.141.71:80\n",
      "178.32.101.200:80\n",
      "152.69.215.206:80\n",
      "46.249.101.137:80\n",
      "165.154.236.214:80\n",
      "114.43.107.72:80\n",
      "3.226.168.144:80\n",
      "20.69.79.158:8443\n",
      "65.21.131.27:80\n",
      "143.110.232.177:80\n",
      "14.99.97.249:80\n",
      "85.239.242.23:80\n",
      "200\n"
     ]
    },
    {
     "name": "stdout",
     "output_type": "stream",
     "text": [
      "154.118.228.212:80\n",
      "210.48.237.116:8080\n",
      "210.48.237.116:8080\n",
      "137.184.242.126:80\n",
      "52.88.105.39:80\n",
      "137.74.65.101:80\n",
      "137.74.65.101:80\n",
      "103.152.9.151:80\n",
      "114.6.87.177:60811\n",
      "158.69.157.172:80\n",
      "158.69.157.172:80\n",
      "94.242.55.10:80\n",
      "64.225.8.121:9992\n",
      "64.225.8.121:9992\n",
      "203.154.39.146:80\n",
      "103.175.163.145:80\n",
      "103.175.163.145:80\n",
      "178.33.3.163:8080\n",
      "178.33.3.163:8080\n",
      "185.76.10.68:8080\n",
      "68.132.18.127:8888\n",
      "45.125.217.90:5555\n",
      "45.125.217.90:5555\n",
      "14.243.55.134:55443\n",
      "185.160.217.2:8123\n",
      "201.238.248.134:443\n",
      "138.2.9.75:8080\n",
      "94.74.80.88:45554\n",
      "143.198.182.218:80\n",
      "143.198.182.218:80\n",
      "41.74.91.244:80\n",
      "181.16.201.53:80\n",
      "103.199.169.30:8080\n",
      "103.199.169.30:8080\n",
      "117.54.114.102:80\n",
      "45.62.167.249:80\n",
      "139.99.135.214:80\n",
      "18.182.22.186:1080\n",
      "47.244.32.96:80\n",
      "47.244.32.96:80\n",
      "139.178.66.232:443\n",
      "139.178.66.232:443\n",
      "195.182.131.70:6003\n",
      "195.182.131.70:6003\n",
      "5.135.136.60:9090\n",
      "110.49.34.126:32650\n",
      "103.118.175.199:8181\n",
      "5.78.96.217:8080\n",
      "91.234.195.124:80\n",
      "5.78.67.208:8080\n",
      "5.78.79.113:8080\n",
      "5.78.79.113:8080\n",
      "5.78.77.85:8080\n",
      "5.78.100.46:8080\n",
      "5.78.92.240:8080\n"
     ]
    }
   ],
   "source": [
    "with open(\"valid_proxies.txt\",\"r\") as f:\n",
    "    proxies = f.read().split(\"\\n\")\n",
    "    \n",
    "    sites_to_check = [\"http://books.toscrape.com/\"]\n",
    "    \n",
    "    counter = 0\n",
    "    \n",
    "    for site in sites_to_check:\n",
    "        try:\n",
    "            print(f\"Using the proxy: {proxies[counter]}\")\n",
    "            res = requests.get(site, proxies={\"http\":proxies[counter],\n",
    "                                            \"https\":proxies[counter]})\n",
    "            print(res.status_code)\n",
    "        except:\n",
    "            print(\"Failed\")\n",
    "        finally:\n",
    "            counter+=1"
   ]
  }
 ],
 "metadata": {
  "kernelspec": {
   "display_name": "Python 3",
   "language": "python",
   "name": "python3"
  },
  "language_info": {
   "codemirror_mode": {
    "name": "ipython",
    "version": 3
   },
   "file_extension": ".py",
   "mimetype": "text/x-python",
   "name": "python",
   "nbconvert_exporter": "python",
   "pygments_lexer": "ipython3",
   "version": "3.11.2"
  },
  "orig_nbformat": 4
 },
 "nbformat": 4,
 "nbformat_minor": 2
}
