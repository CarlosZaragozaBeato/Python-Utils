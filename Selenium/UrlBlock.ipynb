{
 "cells": [
  {
   "attachments": {},
   "cell_type": "markdown",
   "metadata": {},
   "source": [
    "#### Obtiene las requests que se hacen en la pagina"
   ]
  },
  {
   "cell_type": "code",
   "execution_count": 1,
   "metadata": {},
   "outputs": [],
   "source": [
    "def ObtenerRequest(driver):\n",
    "    for request in driver.requests:\n",
    "        if request.response:\n",
    "            if request.url == 'https://www.selenium.dev/documentation/webdriver/':                \n",
    "                \n",
    "                request.abort()\n",
    "                \n",
    "                print(\n",
    "                request.url,\n",
    "                request.response.status_code,\n",
    "                request.response.headers['Content-Type'])\n",
    "                request.abort()\n"
   ]
  },
  {
   "cell_type": "code",
   "execution_count": 2,
   "metadata": {},
   "outputs": [
    {
     "name": "stdout",
     "output_type": "stream",
     "text": [
      "https://www.selenium.dev/documentation/webdriver/ HTTPStatus.FORBIDDEN None\n"
     ]
    }
   ],
   "source": [
    "from seleniumwire import webdriver  \n",
    "from selenium.webdriver.common.by import By\n",
    "from selenium.webdriver.support.ui import WebDriverWait\n",
    "from selenium.webdriver.support import expected_conditions as EC\n",
    "from selenium.webdriver.chrome.options import Options\n",
    "\n",
    "\n",
    "# Create a new instance of the Chrome driver\n",
    "driver = webdriver.Chrome()\n",
    "\n",
    "# Go to the Google home page\n",
    "driver.get('http://localhost:3000/')\n",
    "\n",
    "# Access requests via the `requests` attribute\n",
    "\n",
    "def ObtenerXPATH( xPath:str):\n",
    "    return wait1.until(EC.presence_of_element_located((\n",
    "                By.XPATH, xPath)))\n",
    "\n",
    "wait1 = WebDriverWait(driver, 10)\n",
    "\n",
    "btn = driver.find_element(By.XPATH, '//*[@id=\"root\"]/main/a')\n",
    "btn.click()\n",
    "\n",
    "ObtenerRequest(driver)\n"
   ]
  },
  {
   "attachments": {},
   "cell_type": "markdown",
   "metadata": {},
   "source": [
    "#### Bloquea los elementos estaticos de la pagina web "
   ]
  },
  {
   "cell_type": "code",
   "execution_count": 5,
   "metadata": {},
   "outputs": [],
   "source": [
    "\n",
    "\n",
    "from selenium import webdriver\n",
    "from selenium.webdriver.chrome.service import Service as ChromeService\n",
    "\n",
    "# Configurar el servicio del driver\n",
    "service = ChromeService(executable_path='path/to/chromedriver')\n",
    "options = webdriver.ChromeOptions()\n",
    "\n",
    "# Habilitar el DevTools y bloquear las URLs\n",
    "options.add_experimental_option('w3c', True)\n",
    "options.add_experimental_option('excludeSwitches', ['enable-automation'])\n",
    "options.add_argument(\"--start-maximized\")\n",
    "driver = webdriver.Chrome(service=service, options=options)\n",
    "devTools = driver.execute_cdp_cmd(\"Page.enable\", {})\n",
    "devTools = driver.execute_cdp_cmd(\"Network.enable\", {})\n",
    "devTools = driver.execute_cdp_cmd(\"Network.setBlockedURLs\", {\"urls\": [\"https://source.unsplash.com/random/400x400\"]})\n",
    "\n",
    "# Navegar a la página deseada\n",
    "driver.get(\"http://localhost:3000/\")"
   ]
  },
  {
   "cell_type": "code",
   "execution_count": 6,
   "metadata": {},
   "outputs": [],
   "source": [
    "###### BLOQUEA IMAGENES Pagina WEB\n",
    "from selenium import webdriver\n",
    "from selenium.webdriver.chrome.service import Service as ChromeService\n",
    "\n",
    "# Configurar el servicio del driver\n",
    "service = ChromeService(executable_path='path/to/chromedriver')\n",
    "options = webdriver.ChromeOptions()\n",
    "\n",
    "# Habilitar el DevTools y bloquear las URLs\n",
    "options.add_experimental_option('w3c', True)\n",
    "options.add_experimental_option('excludeSwitches', ['enable-automation'])\n",
    "options.add_argument(\"--start-maximized\")\n",
    "driver = webdriver.Chrome(service=service, options=options)\n",
    "driver.execute_cdp_cmd(\"Page.enable\", {})\n",
    "driver.execute_cdp_cmd(\"Network.enable\", {})\n",
    "driver.execute_cdp_cmd(\"Network.setBlockedURLs\", {\"urls\": [\"*.webp\", \"*.jpeg\"]})\n",
    "\n",
    "# Navegar a la página deseada\n",
    "driver.get(\"https://www.pccomponentes.com/\")"
   ]
  },
  {
   "cell_type": "code",
   "execution_count": 7,
   "metadata": {},
   "outputs": [],
   "source": [
    "###BLOQUEA IMAGENES DE UNA PAGINA NUESTRA\n",
    "from selenium import webdriver\n",
    "from selenium.webdriver.chrome.service import Service\n",
    "\n",
    "# Inicia el controlador de Chrome con la API de DevTools habilitada\n",
    "s = Service(\"driver/chromedriver.exe\")\n",
    "\n",
    "\n",
    "# Crea una instancia del navegador\n",
    "driver = webdriver.Chrome(service=s)\n",
    "\n",
    "# Obtén el ID del contexto de DevTools\n",
    "\n",
    "# Habilita la API de DevTools Network\n",
    "driver.execute_cdp_cmd(\"Network.enable\", {})\n",
    "driver.execute_cdp_cmd(\"Page.enable\", {})\n",
    "# Agrega una regla para bloquear la solicitud de Google Analytics\n",
    "driver.execute_cdp_cmd(\"Network.setBlockedURLs\", {\"urls\": [\"*https://www.selenium.dev/documentation/webdriver/*\"]})\n",
    "\n",
    "# Navega a la página web y realiza las acciones necesarias\n",
    "driver.get(\"http://localhost:3000/\")\n",
    "# Realiza acciones en la página\n",
    "\n",
    "# Cierra el navegador y detiene el servicio\n",
    "driver.quit()\n",
    "s.stop()\n"
   ]
  }
 ],
 "metadata": {
  "kernelspec": {
   "display_name": "base",
   "language": "python",
   "name": "python3"
  },
  "language_info": {
   "codemirror_mode": {
    "name": "ipython",
    "version": 3
   },
   "file_extension": ".py",
   "mimetype": "text/x-python",
   "name": "python",
   "nbconvert_exporter": "python",
   "pygments_lexer": "ipython3",
   "version": "3.9.13"
  },
  "orig_nbformat": 4
 },
 "nbformat": 4,
 "nbformat_minor": 2
}
