{
 "cells": [
  {
   "cell_type": "code",
   "execution_count": 45,
   "metadata": {},
   "outputs": [],
   "source": [
    "from selenium import webdriver\n",
    "from selenium.webdriver.common.by import By\n",
    "from selenium.webdriver.support.ui import WebDriverWait\n",
    "from selenium.webdriver.support import expected_conditions as EC\n",
    "from selenium.webdriver.support.ui import Select\n",
    "import webbrowser\n",
    "import pyautogui as py\n",
    "\n",
    "\n",
    "\n",
    "import time"
   ]
  },
  {
   "cell_type": "code",
   "execution_count": 59,
   "metadata": {},
   "outputs": [],
   "source": [
    "\n",
    "webbrowser.open(\"https://www.google.com/recaptcha/api2/demo\")\n",
    "\n",
    "#Selenium no lo pilla\n",
    "\"\"\"\n",
    "driver = webdriver.Chrome()\n",
    "driver.get(\"https://www.google.com/recaptcha/api2/demo\")\n",
    "driver.maximize_window()\"\"\"\n",
    "time.sleep(3)\n",
    "py.click(x=33, y=426)\n",
    "time.sleep(1)\n",
    "py.click(x=33,y=500)\n",
    "time.sleep(3)\n",
    "#btn = driver.find_element(By.XPATH, '//*[@id=\"recaptcha-demo-submit\"]')\n",
    "#btn.click()\n",
    "\n",
    "\n"
   ]
  },
  {
   "cell_type": "markdown",
   "metadata": {},
   "source": []
  }
 ],
 "metadata": {
  "kernelspec": {
   "display_name": "Python 3",
   "language": "python",
   "name": "python3"
  },
  "language_info": {
   "codemirror_mode": {
    "name": "ipython",
    "version": 3
   },
   "file_extension": ".py",
   "mimetype": "text/x-python",
   "name": "python",
   "nbconvert_exporter": "python",
   "pygments_lexer": "ipython3",
   "version": "3.11.2"
  },
  "orig_nbformat": 4
 },
 "nbformat": 4,
 "nbformat_minor": 2
}
